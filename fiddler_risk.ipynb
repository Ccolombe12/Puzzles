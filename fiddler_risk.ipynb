{
 "cells": [
  {
   "cell_type": "code",
   "execution_count": null,
   "id": "86c0315d",
   "metadata": {},
   "outputs": [
    {
     "name": "stdout",
     "output_type": "stream",
     "text": [
      "0.33588\n",
      "0.33414634146341465\n"
     ]
    }
   ],
   "source": [
    "# Part 1 sim check\n",
    "# pull random cards from a deck\n",
    "\n",
    "from random import random, choice\n",
    "\n",
    "\n",
    "def new_card(cnts):\n",
    "    # given a dictionary of counts return a suit of card with prob proportial to the suits\n",
    "    x = random()\n",
    "    total = sum(cnts.values())\n",
    "    P = 0\n",
    "    if total == 0:\n",
    "        return None\n",
    "    for t, cnt in cnts.items():\n",
    "        P += cnt / total\n",
    "        if x <= P:\n",
    "            cnts[t] -= 1\n",
    "            return t\n",
    "\n",
    "\n",
    "def check1(cards):\n",
    "    N = len(cards)\n",
    "    c1 = cards[0]\n",
    "    same = all(c == c1 for c in cards)\n",
    "    diff = len(set(cards)) == N\n",
    "    return same or diff\n",
    "\n",
    "\n",
    "def sim_game(num_trials=100000):\n",
    "\n",
    "    def trial():\n",
    "        deck = {1: 14, 2: 14, 3: 14}\n",
    "        total = 42\n",
    "        cards = [new_card(deck) for _ in range(3)]\n",
    "\n",
    "        # print(cards)\n",
    "        # print(deck)\n",
    "        if check1(cards):\n",
    "            return 1\n",
    "        return 0\n",
    "\n",
    "    return sum(trial() for _ in range(num_trials)) / num_trials\n",
    "\n",
    "\n",
    "print(sim_game())\n",
    "print(f\"{137/410}\")"
   ]
  },
  {
   "cell_type": "code",
   "execution_count": null,
   "id": "2082c373",
   "metadata": {},
   "outputs": [
    {
     "name": "stdout",
     "output_type": "stream",
     "text": [
      "The expected number of turns is 72921/19393 which is around ~ 3.7602\n"
     ]
    }
   ],
   "source": [
    "# now expected value with wildcards\n",
    "from functools import cache\n",
    "from fractions import Fraction\n",
    "\n",
    "\n",
    "@cache\n",
    "def E(t1, t2, t3, w):\n",
    "    # all of one type\n",
    "    if max(t1, t2, t3) + w == 3:\n",
    "        return Fraction(0)\n",
    "\n",
    "    # one of each type\n",
    "    if w == 2 and (t1 + t2 + t3 >= 1):\n",
    "        return 0\n",
    "    if w == 1 and ((t1 > 0 and t2 > 0) or (t1 > 0 and t3 > 0) or (t2 > 0 and t3 > 0)):\n",
    "        return 0\n",
    "    if w == 0 and (t1 > 0 and t2 > 0 and t3 > 0):\n",
    "        return 0\n",
    "    # expected turns from current state\n",
    "    N = 44 - t1 - t2 - t3 - w\n",
    "    p1, p2, p3, pw = (\n",
    "        Fraction(14 - t1, N),\n",
    "        Fraction(14 - t2, N),\n",
    "        Fraction(14 - t3, N),\n",
    "        Fraction(2 - w, N),\n",
    "    )\n",
    "    return (\n",
    "        1\n",
    "        + p1 * E(t1 + 1, t2, t3, w)\n",
    "        + p2 * E(t1, t2 + 1, t3, w)\n",
    "        + p3 * E(t1, t2, t3 + 1, w)\n",
    "        + pw * E(t1, t2, t3, w + 1)\n",
    "    )\n",
    "\n",
    "\n",
    "ans = E(0, 0, 0, 0)\n",
    "print(f\"The expected number of turns is {ans} which is around ~ {ans:.4f}\")"
   ]
  },
  {
   "cell_type": "code",
   "execution_count": 12,
   "id": "6a5b3e27",
   "metadata": {},
   "outputs": [
    {
     "name": "stdout",
     "output_type": "stream",
     "text": [
      "The expected number of turns is 72921/19393 which is around ~ 3.7602\n",
      "3.760032235528942\n"
     ]
    }
   ],
   "source": [
    "# simulate\n",
    "from collections import defaultdict\n",
    "\n",
    "\n",
    "def check2(cnts):\n",
    "    t1, t2, t3, w = [cnts[i] for i in range(1, 5)]\n",
    "    if max(t1, t2, t3) + w == 3:\n",
    "        return True\n",
    "\n",
    "    # one of each type\n",
    "    if w == 2 and (t1 + t2 + t3 >= 1):\n",
    "        return True\n",
    "    if w == 1 and ((t1 > 0 and t2 > 0) or (t1 > 0 and t3 > 0) or (t2 > 0 and t3 > 0)):\n",
    "        return True\n",
    "    if w == 0 and (t1 > 0 and t2 > 0 and t3 > 0):\n",
    "        return True\n",
    "    return False\n",
    "\n",
    "\n",
    "def cards_needed(cards):\n",
    "    N = len(cards)\n",
    "    cnt = 0\n",
    "\n",
    "    seen = defaultdict(int)\n",
    "    for c in cards:\n",
    "        cnt += 1\n",
    "        seen[c] += 1\n",
    "        if check2(seen):\n",
    "            break\n",
    "    return cnt\n",
    "\n",
    "\n",
    "def sim_E_game(num_trials=100000):\n",
    "\n",
    "    def trial_E():\n",
    "        deck = {1: 14, 2: 14, 3: 14, 4: 2}\n",
    "        cards = [new_card(deck) for _ in range(6)]\n",
    "        return cards_needed(cards)\n",
    "\n",
    "    return sum(trial_E() for _ in range(num_trials)) / num_trials\n",
    "\n",
    "\n",
    "print(f\"The expected number of turns is {ans} which is around ~ {ans:.4f}\")\n",
    "print(sim_E_game())"
   ]
  },
  {
   "cell_type": "code",
   "execution_count": null,
   "id": "24c84a68",
   "metadata": {},
   "outputs": [],
   "source": []
  }
 ],
 "metadata": {
  "kernelspec": {
   "display_name": "main_env",
   "language": "python",
   "name": "python3"
  },
  "language_info": {
   "codemirror_mode": {
    "name": "ipython",
    "version": 3
   },
   "file_extension": ".py",
   "mimetype": "text/x-python",
   "name": "python",
   "nbconvert_exporter": "python",
   "pygments_lexer": "ipython3",
   "version": "3.12.2"
  }
 },
 "nbformat": 4,
 "nbformat_minor": 5
}
