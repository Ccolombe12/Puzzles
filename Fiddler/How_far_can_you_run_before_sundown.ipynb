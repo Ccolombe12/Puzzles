{
 "cells": [
  {
   "cell_type": "code",
   "execution_count": null,
   "id": "3e278b0f",
   "metadata": {},
   "outputs": [
    {
     "name": "stdout",
     "output_type": "stream",
     "text": [
      "For a remaining duration of 65 minutes, the expected score is 19933/4096 which is ~ 4.8665 \n"
     ]
    }
   ],
   "source": [
    "# Case 1: No mulligan\n",
    "from random import randrange\n",
    "from functools import cache\n",
    "from fractions import Fraction\n",
    "\n",
    "T = 65  # Minutes left\n",
    "v = 10  # minutes/per mile\n",
    "loop_lengths = [Fraction(1), Fraction(3), Fraction(7, 2), Fraction(9, 2)]\n",
    "loop_durations = [d * v for d in loop_lengths]\n",
    "min_duration = min(loop_durations)\n",
    "p = Fraction(1, 4)\n",
    "\n",
    "\n",
    "@cache\n",
    "def exp_score(time_left):\n",
    "    # base case: no race short enough left\n",
    "    if time_left < min_duration:\n",
    "        return Fraction(0)\n",
    "\n",
    "    E_score = 0\n",
    "    for i, l in enumerate(loop_lengths):\n",
    "        dur = loop_durations[i]\n",
    "        if (\n",
    "            dur <= time_left\n",
    "        ):  # if race is short enough to complete, add its expected score.\n",
    "            E_score += p * (l + exp_score(time_left - dur))\n",
    "\n",
    "    return E_score\n",
    "\n",
    "\n",
    "ans = exp_score(T)\n",
    "print(\n",
    "    f\"For a remaining duration of {T} minutes, the expected score is {ans} which is ~ {ans:.4f} \"\n",
    ")"
   ]
  },
  {
   "cell_type": "code",
   "execution_count": 16,
   "id": "744cc0e7",
   "metadata": {},
   "outputs": [
    {
     "name": "stdout",
     "output_type": "stream",
     "text": [
      "For a remaining duration of 65 minutes, with a mulligan the expected score is 21921/4096 which is ~ 5.3518 \n"
     ]
    }
   ],
   "source": [
    "# Now with mulligan\n",
    "from math import inf\n",
    "\n",
    "\n",
    "@cache\n",
    "def exp_score_mull(time_left, mull_left):\n",
    "\n",
    "    if time_left < min_duration:  # Base case, no race long enough remaining\n",
    "        return Fraction(0)\n",
    "\n",
    "    E_score = 0\n",
    "    for i, l in enumerate(loop_lengths):\n",
    "        dur = loop_durations[i]\n",
    "        # expected score if we use mulligan\n",
    "        E_score_use = exp_score_mull(time_left, mull_left - 1) if mull_left >= 1 else 0\n",
    "        # expected score if we keep it, we can only keep it time_left >= dur\n",
    "        E_score_keep = (\n",
    "            (l + exp_score_mull(time_left - dur, mull_left)) if time_left >= dur else 0\n",
    "        )\n",
    "        # choose the option with the larger score\n",
    "        E_score += p * max(E_score_use, E_score_keep)\n",
    "\n",
    "    return E_score\n",
    "\n",
    "\n",
    "ans = exp_score_mull(T, 1)\n",
    "print(\n",
    "    f\"For a remaining duration of {T} minutes, with a mulligan the expected score is {ans} which is ~ {ans:.4f} \"\n",
    ")"
   ]
  },
  {
   "cell_type": "code",
   "execution_count": null,
   "id": "e8690510",
   "metadata": {},
   "outputs": [],
   "source": []
  }
 ],
 "metadata": {
  "kernelspec": {
   "display_name": "main_env",
   "language": "python",
   "name": "python3"
  },
  "language_info": {
   "codemirror_mode": {
    "name": "ipython",
    "version": 3
   },
   "file_extension": ".py",
   "mimetype": "text/x-python",
   "name": "python",
   "nbconvert_exporter": "python",
   "pygments_lexer": "ipython3",
   "version": "3.12.2"
  }
 },
 "nbformat": 4,
 "nbformat_minor": 5
}
